{
 "cells": [
  {
   "cell_type": "markdown",
   "metadata": {
    "id": "bj3F1nTZj1ho"
   },
   "source": [
    "# Hands On - Aprendizado Federado aplicado à Internet das Coisas\n",
    "\n",
    "**Notebook 2**: Criação de clientes no ambiente federado"
   ]
  },
  {
   "cell_type": "markdown",
   "metadata": {
    "id": "cJPTVnswkMdN"
   },
   "source": [
    "O reconhecimento da atividade humana é uma área de pesquisa ativa e que possui um enorme potencial de benefício com o uso de aprendizado federado (FL), já que tais dados são normalmente privados e possuem informações sensíveis sobre os usuários.\n",
    "Além disso, com FL também podemos desenvolver um modelo conjunto que consiga capturar a diversidade dos dados, algo que é extremamente difícil de ser coletado de forma individual.\n",
    "\n",
    "Sob esse contexto, nesse tutorial vamos aprender como definir clientes para o treinamento federado de uma rede neural para auxilar no reconhecimento de atividades humanas (*Human Activity Recognition* - HAR) usando o framework de aprendizado federado\n",
    "Flower em conjunto com a biblioteca de deep learning Pytorch."
   ]
  },
  {
   "cell_type": "markdown",
   "metadata": {
    "id": "2hX7rxsAk8CT"
   },
   "source": [
    "### Dataset\n",
    "\n",
    "Os dados serão particionados horizontalmente, assim os subconjuntos de treinamento e teste irão ser divididos em mini-batches (pequenos lotes) com base no número total de clientes.\n",
    "\n",
    "Para isso, aplicaremos uma função auxiliar para carregar os dados e definir os conjuntos de treinamento e teste.\n",
    "Nessa função, precisaremos dos seguintes parâmetros: \n",
    "\n",
    "* **data root (str)**: Diretório onde os datasets finais serão armazenados. \n",
    "\n",
    "* **train batch size (int)**: Tamanho do mini-batch usado nos dados de treinamento.\n",
    "\n",
    "* **test batch size (int)**: Tamanho do mini-batch usado nos dados de teste. \n",
    "\n",
    "* **id (int)**: Client ID usado para selecionar uma partição específica. \n",
    "\n",
    "* **nb clients (int)**: Número total de clientes usados no treinamento."
   ]
  },
  {
   "cell_type": "code",
   "execution_count": 1,
   "metadata": {
    "colab": {
     "base_uri": "https://localhost:8080/"
    },
    "id": "UVQzVKL2r67J",
    "outputId": "67066d3f-f7bb-412c-e76b-091aea68ff3c"
   },
   "outputs": [],
   "source": [
    "#Carregando os dados\n",
    "import flwr as fl\n",
    "import torch\n",
    "import aux\n",
    "\n",
    "DATA_ROOT = \"./data/pml-training.csv\"\n",
    "\n",
    "cid = 0\n",
    "nb_clients = 2\n",
    "train_batch_size = 64\n",
    "test_batch_size = 64\n",
    "epochs = 10\n",
    "\n",
    "# Load data\n",
    "train_loader, test_loader = aux.load_data(\n",
    "        data_root = DATA_ROOT,\n",
    "        train_batch_size = train_batch_size,\n",
    "        test_batch_size = test_batch_size,\n",
    "        cid = cid,\n",
    "        nb_clients = nb_clients + 1,\n",
    ")"
   ]
  },
  {
   "cell_type": "markdown",
   "metadata": {
    "id": "Arvhg44xrwWm"
   },
   "source": [
    "### Rede Neural\n",
    "\n",
    "Atualmente o modelo de classificação mais adequado e vantajoso para a modelagem de um ambiente federado são as redes neurais.\n",
    "Definimos essa configuração de arquitetura por meio da criação de uma classe em Pytorch denominada **HARmodel** presente no arquivo auxiliar *aux.py* adicionado."
   ]
  },
  {
   "cell_type": "markdown",
   "metadata": {
    "id": "-glqWQnYsGt3"
   },
   "source": [
    "### Cliente Flower\n",
    "\n",
    "O próximo passo é definir a alocação dos dispositivos no ambiente federado. \n",
    "\n",
    "Quando o servidor seleciona um dispositivo específico do ambiente federado para realizar um treinamento, ele envia as instruções pela rede, por meio de uma interface chamada **Client**.\n",
    "Assim, o cliente recebe as instruções do servidor e chama um dos métodos desta classe para executar seu código (ou seja, para treinar a sua rede neural local). \n",
    "\n",
    "O framework Flower fornece uma classe chamada *NumPyClient*, que torna mais fácil implementar a interface do cliente quando utilizamos PyTorch. \n",
    "Quando implementamos um NumPyClient devemos definir os seguintes métodos: \n",
    "\n",
    "* **get_parameters**: retorna o peso do modelo\n",
    "como uma lista de ndarrays \n",
    "\n",
    "* **set_parameters** (opcional): atualiza os pesos do modelo\n",
    "local com os parâmetros recebidos do servidor \n",
    "\n",
    "* **fit**: define os pesos do modelo local, treina o modelo localmente e recebe o update dos pesos locais \n",
    "\n",
    "* **evaluate**: define como o modelo local será testado. \n",
    "\n",
    "Abaixo mostramos como a classe Client foi implementada\n",
    "para o caso de estudo apresentado:"
   ]
  },
  {
   "cell_type": "code",
   "execution_count": 2,
   "metadata": {},
   "outputs": [],
   "source": [
    "class FlowerClient(fl.client.Client):\n",
    "    \"\"\"Flower client implementing classification using PyTorch.\"\"\"\n",
    "\n",
    "    def __init__(self, cid, train_loader, test_loader, epochs, device: torch.device = torch.device(\"cpu\")):\n",
    "        \n",
    "        self.model = HARmodel(40, 5).to(device)\n",
    "        self.cid = cid\n",
    "        self.train_loader = train_loader\n",
    "        self.test_loader = test_loader\n",
    "        self.device = device\n",
    "        self.epochs = epochs\n",
    "\n",
    "    def get_weights(self):\n",
    "        \"\"\"Get model weights as a list of NumPy ndarrays.\"\"\"\n",
    "        return [val.cpu().numpy() for _, val in self.model.state_dict().items()]\n",
    "\n",
    "    def set_weights(self, weights):\n",
    "        \"\"\"Set model weights from a list of NumPy ndarrays.\n",
    "        Parameters\n",
    "        ----------\n",
    "        weights: fl.common.Weights\n",
    "            Weights received by the server and set to local model\n",
    "        Returns\n",
    "        -------\n",
    "        \"\"\"\n",
    "        state_dict = OrderedDict(\n",
    "            {\n",
    "                k: torch.Tensor(v)\n",
    "                for k, v in zip(self.model.state_dict().keys(), weights)\n",
    "            }\n",
    "        )\n",
    "        self.model.load_state_dict(state_dict, strict=True)\n",
    "\n",
    "    def get_parameters(self):\n",
    "        \"\"\"Encapsulates the weights into Flower Parameters \"\"\"\n",
    "        weights: fl.common.Weights = self.get_weights()\n",
    "        parameters = fl.common.weights_to_parameters(weights)\n",
    "        return fl.common.ParametersRes(parameters=parameters)\n",
    "\n",
    "    def fit(self, ins):\n",
    "        \"\"\"Trains the model on local dataset\n",
    "        Parameters\n",
    "        ----------\n",
    "        ins: fl.common.FitIns\n",
    "           Parameters sent by the server to be used during training.\n",
    "        Returns\n",
    "        -------\n",
    "            Set of variables containing the new set of weights and information the client.\n",
    "        \"\"\"\n",
    "\n",
    "        # Set the seed so we are sure to generate the same global batches\n",
    "        # indices across all clients\n",
    "        np.random.seed(123)\n",
    "\n",
    "        weights: fl.common.Weights = fl.common.parameters_to_weights(ins.parameters)\n",
    "        fit_begin = timeit.default_timer()\n",
    "\n",
    "        # Set model parameters/weights\n",
    "        self.set_weights(weights)\n",
    "\n",
    "        # Train model\n",
    "        num_examples_train: int = train(\n",
    "            self.model, self.train_loader, epochs = self.epochs, device = self.device, cid = self.cid\n",
    "        )\n",
    "\n",
    "        # Return the refined weights and the number of examples used for training\n",
    "        weights_prime: fl.common.Weights = self.get_weights()\n",
    "        params_prime = fl.common.weights_to_parameters(weights_prime)\n",
    "        fit_duration = timeit.default_timer() - fit_begin\n",
    "        return fl.common.FitRes(\n",
    "            parameters = params_prime,\n",
    "            num_examples = num_examples_train,\n",
    "            num_examples_ceil = num_examples_train,\n",
    "            fit_duration = fit_duration,\n",
    "        )\n",
    "\n",
    "    def evaluate(self, ins):\n",
    "        \"\"\"\n",
    "        Parameters\n",
    "        ----------\n",
    "        ins: fl.common.EvaluateIns\n",
    "           Parameters sent by the server to be used during testing.\n",
    "        Returns\n",
    "        -------\n",
    "            Information the clients testing results.\n",
    "        \"\"\"\n",
    "        weights = fl.common.parameters_to_weights(ins.parameters)\n",
    "\n",
    "        # Use provided weights to update the local model\n",
    "        self.set_weights(weights)\n",
    "\n",
    "        (num_examples_test, test_loss, accuracy) = test(self.model, self.test_loader, device = self.device)\n",
    "        print(f\"Client {self.cid} - Evaluate on {num_examples_test} samples: Average loss: {test_loss:.4f}, Accuracy: {100*accuracy:.2f}%\\n\")\n",
    "\n",
    "        # Return the number of evaluation examples and the evaluation result (loss)\n",
    "        return fl.common.EvaluateRes(\n",
    "            num_examples = num_examples_test,\n",
    "            loss = float(test_loss),\n",
    "            accuracy = float(accuracy),\n",
    "        )"
   ]
  },
  {
   "cell_type": "markdown",
   "metadata": {},
   "source": [
    "### Instanciando o cliente"
   ]
  },
  {
   "cell_type": "code",
   "execution_count": 3,
   "metadata": {
    "id": "MEUIciNJ69re"
   },
   "outputs": [],
   "source": [
    "device = torch.device(\"cuda\" if torch.cuda.is_available() else \"cpu\")\n",
    "\n",
    "client = aux.FlowerClient(\n",
    "    cid = cid,\n",
    "    train_loader = train_loader,\n",
    "    test_loader = test_loader,\n",
    "    epochs = epochs,\n",
    "    device = device,\n",
    ")"
   ]
  },
  {
   "cell_type": "markdown",
   "metadata": {
    "id": "yNxtUr3s67hn"
   },
   "source": [
    "### Inicializando o cliente\n",
    "\n",
    "O flower nos fornece a possibilidade de rodar o servidor e o cliente na mesma máquina, configurando o endereço do servidor como \"[::]: 8080\". \n",
    "Porém, se quisermos implementar uma aplicação realmente federada com o servidor e clientes em execução em diferentes máquinas, precisaremos apenas alterar o server address para o respectivo endereço da máquina do cliente."
   ]
  },
  {
   "cell_type": "code",
   "execution_count": 4,
   "metadata": {
    "id": "CD9ie8II7QHB",
    "scrolled": false
   },
   "outputs": [
    {
     "name": "stderr",
     "output_type": "stream",
     "text": [
      "DEBUG flower 2021-08-19 22:45:10,810 | connection.py:36 | ChannelConnectivity.IDLE\n",
      "INFO flower 2021-08-19 22:45:10,811 | app.py:61 | Opened (insecure) gRPC connection\n",
      "DEBUG flower 2021-08-19 22:45:10,812 | connection.py:36 | ChannelConnectivity.READY\n"
     ]
    },
    {
     "name": "stdout",
     "output_type": "stream",
     "text": [
      "Training 10 epoch(s) w/ 103 mini-batches each\n",
      "\n",
      "Train Epoch: 0 [6336/6592 (96%)] Loss: 1.582855, Acc: 0.242266 (Cliente 0)\t\t\t\t\n",
      "Train Epoch: 1 [6336/6592 (96%)] Loss: 1.640921, Acc: 0.291193 (Cliente 0)\t\t\t\t\n",
      "Train Epoch: 2 [6336/6592 (96%)] Loss: 1.459921, Acc: 0.342014 (Cliente 0)\t\t\t\t\n",
      "Train Epoch: 3 [6336/6592 (96%)] Loss: 1.290316, Acc: 0.377841 (Cliente 0)\t\t\t\t\n",
      "Train Epoch: 4 [6336/6592 (96%)] Loss: 1.251219, Acc: 0.420770 (Cliente 0)\t\t\t\t\n",
      "Train Epoch: 5 [6336/6592 (96%)] Loss: 1.142259, Acc: 0.452178 (Cliente 0)\t\t\t\t\n",
      "Train Epoch: 6 [6336/6592 (96%)] Loss: 1.245141, Acc: 0.482797 (Cliente 0)\t\t\t\t\n",
      "Train Epoch: 7 [6336/6592 (96%)] Loss: 1.309945, Acc: 0.511206 (Cliente 0)\t\t\t\t\n",
      "Train Epoch: 8 [6336/6592 (96%)] Loss: 1.028465, Acc: 0.515783 (Cliente 0)\t\t\t\t\n",
      "Training 10 epoch(s) w/ 103 mini-batches each10, Acc: 0.529356 (Cliente 0)\t\t\t\t\n",
      "\n",
      "Train Epoch: 0 [6336/6592 (96%)] Loss: 1.066691, Acc: 0.507734 (Cliente 0)\t\t\t\t\n",
      "Train Epoch: 1 [6336/6592 (96%)] Loss: 1.048242, Acc: 0.532355 (Cliente 0)\t\t\t\t\n",
      "Train Epoch: 2 [6336/6592 (96%)] Loss: 1.097597, Acc: 0.541035 (Cliente 0)\t\t\t\t\n",
      "Train Epoch: 3 [6336/6592 (96%)] Loss: 1.233365, Acc: 0.559975 (Cliente 0)\t\t\t\t\n",
      "Train Epoch: 4 [6336/6592 (96%)] Loss: 1.323177, Acc: 0.564394 (Cliente 0)\t\t\t\t\n",
      "Train Epoch: 5 [6336/6592 (96%)] Loss: 1.208911, Acc: 0.568813 (Cliente 0)\t\t\t\t\n",
      "Train Epoch: 6 [6336/6592 (96%)] Loss: 1.101075, Acc: 0.585227 (Cliente 0)\t\t\t\t\n",
      "Train Epoch: 7 [6336/6592 (96%)] Loss: 1.120412, Acc: 0.588068 (Cliente 0)\t\t\t\t\n",
      "Train Epoch: 8 [6336/6592 (96%)] Loss: 0.953902, Acc: 0.601168 (Cliente 0)\t\t\t\t\n",
      "Training 10 epoch(s) w/ 103 mini-batches each79, Acc: 0.598327 (Cliente 0)\t\t\t\t\n",
      "\n",
      "Train Epoch: 0 [6336/6592 (96%)] Loss: 1.133331, Acc: 0.588068 (Cliente 0)\t\t\t\t\n",
      "Train Epoch: 1 [6336/6592 (96%)] Loss: 1.175160, Acc: 0.607481 (Cliente 0)\t\t\t\t\n",
      "Train Epoch: 2 [6336/6592 (96%)] Loss: 1.048232, Acc: 0.608744 (Cliente 0)\t\t\t\t\n",
      "Train Epoch: 3 [6336/6592 (96%)] Loss: 0.712231, Acc: 0.614899 (Cliente 0)\t\t\t\t\n",
      "Train Epoch: 4 [6336/6592 (96%)] Loss: 1.339537, Acc: 0.640309 (Cliente 0)\t\t\t\t\n",
      "Train Epoch: 5 [6336/6592 (96%)] Loss: 0.772550, Acc: 0.630208 (Cliente 0)\t\t\t\t\n",
      "Train Epoch: 6 [6336/6592 (96%)] Loss: 0.929789, Acc: 0.644097 (Cliente 0)\t\t\t\t\n",
      "Train Epoch: 7 [6336/6592 (96%)] Loss: 0.869659, Acc: 0.642992 (Cliente 0)\t\t\t\t\n",
      "Train Epoch: 8 [6336/6592 (96%)] Loss: 0.759864, Acc: 0.642045 (Cliente 0)\t\t\t\t\n",
      "Training 10 epoch(s) w/ 103 mini-batches each36, Acc: 0.645202 (Cliente 0)\t\t\t\t\n",
      "\n",
      "Train Epoch: 0 [6336/6592 (96%)] Loss: 0.970370, Acc: 0.642677 (Cliente 0)\t\t\t\t\n",
      "Train Epoch: 1 [6336/6592 (96%)] Loss: 1.054548, Acc: 0.648201 (Cliente 0)\t\t\t\t\n",
      "Train Epoch: 2 [6336/6592 (96%)] Loss: 0.987413, Acc: 0.653251 (Cliente 0)\t\t\t\t\n",
      "Train Epoch: 3 [6336/6592 (96%)] Loss: 1.044294, Acc: 0.670770 (Cliente 0)\t\t\t\t\n",
      "Train Epoch: 4 [6336/6592 (96%)] Loss: 0.747051, Acc: 0.669981 (Cliente 0)\t\t\t\t\n",
      "Train Epoch: 5 [6336/6592 (96%)] Loss: 0.865624, Acc: 0.673138 (Cliente 0)\t\t\t\t\n",
      "Train Epoch: 6 [6336/6592 (96%)] Loss: 0.761234, Acc: 0.672980 (Cliente 0)\t\t\t\t\n",
      "Train Epoch: 7 [6336/6592 (96%)] Loss: 0.974643, Acc: 0.677557 (Cliente 0)\t\t\t\t\n",
      "Train Epoch: 8 [6336/6592 (96%)] Loss: 0.626731, Acc: 0.677083 (Cliente 0)\t\t\t\t\n",
      "Training 10 epoch(s) w/ 103 mini-batches each26, Acc: 0.678819 (Cliente 0)\t\t\t\t\n",
      "\n",
      "Train Epoch: 0 [6336/6592 (96%)] Loss: 1.266770, Acc: 0.674242 (Cliente 0)\t\t\t\t\n",
      "Train Epoch: 1 [6336/6592 (96%)] Loss: 1.150255, Acc: 0.676768 (Cliente 0)\t\t\t\t\n",
      "Train Epoch: 2 [6336/6592 (96%)] Loss: 0.806073, Acc: 0.685764 (Cliente 0)\t\t\t\t\n",
      "Train Epoch: 3 [6336/6592 (96%)] Loss: 0.781697, Acc: 0.693813 (Cliente 0)\t\t\t\t\n",
      "Train Epoch: 4 [6336/6592 (96%)] Loss: 0.785634, Acc: 0.684501 (Cliente 0)\t\t\t\t\n",
      "Train Epoch: 5 [6336/6592 (96%)] Loss: 0.978424, Acc: 0.686237 (Cliente 0)\t\t\t\t\n",
      "Train Epoch: 6 [6336/6592 (96%)] Loss: 0.913776, Acc: 0.699179 (Cliente 0)\t\t\t\t\n",
      "Train Epoch: 7 [6336/6592 (96%)] Loss: 0.654699, Acc: 0.694444 (Cliente 0)\t\t\t\t\n",
      "Train Epoch: 8 [6336/6592 (96%)] Loss: 1.033364, Acc: 0.704072 (Cliente 0)\t\t\t\t\n",
      "Training 10 epoch(s) w/ 103 mini-batches each73, Acc: 0.702020 (Cliente 0)\t\t\t\t\n",
      "\n",
      "Train Epoch: 0 [6336/6592 (96%)] Loss: 0.866998, Acc: 0.690814 (Cliente 0)\t\t\t\t\n",
      "Train Epoch: 1 [6336/6592 (96%)] Loss: 1.079323, Acc: 0.706597 (Cliente 0)\t\t\t\t\n",
      "Train Epoch: 2 [6336/6592 (96%)] Loss: 0.805537, Acc: 0.697917 (Cliente 0)\t\t\t\t\n",
      "Train Epoch: 3 [6336/6592 (96%)] Loss: 0.647052, Acc: 0.702020 (Cliente 0)\t\t\t\t\n",
      "Train Epoch: 4 [6336/6592 (96%)] Loss: 0.922546, Acc: 0.710069 (Cliente 0)\t\t\t\t\n",
      "Train Epoch: 5 [6336/6592 (96%)] Loss: 0.813635, Acc: 0.699337 (Cliente 0)\t\t\t\t\n",
      "Train Epoch: 6 [6336/6592 (96%)] Loss: 0.708457, Acc: 0.714173 (Cliente 0)\t\t\t\t\n",
      "Train Epoch: 7 [6336/6592 (96%)] Loss: 0.710624, Acc: 0.706439 (Cliente 0)\t\t\t\t\n",
      "Train Epoch: 8 [6336/6592 (96%)] Loss: 0.758299, Acc: 0.706597 (Cliente 0)\t\t\t\t\n",
      "Training 10 epoch(s) w/ 103 mini-batches each29, Acc: 0.713542 (Cliente 0)\t\t\t\t\n",
      "\n",
      "Train Epoch: 0 [6336/6592 (96%)] Loss: 0.946630, Acc: 0.695707 (Cliente 0)\t\t\t\t\n",
      "Train Epoch: 1 [6336/6592 (96%)] Loss: 0.699329, Acc: 0.710543 (Cliente 0)\t\t\t\t\n",
      "Train Epoch: 2 [6336/6592 (96%)] Loss: 0.984041, Acc: 0.715751 (Cliente 0)\t\t\t\t\n",
      "Train Epoch: 3 [6336/6592 (96%)] Loss: 0.856023, Acc: 0.707544 (Cliente 0)\t\t\t\t\n",
      "Train Epoch: 4 [6336/6592 (96%)] Loss: 0.843329, Acc: 0.720644 (Cliente 0)\t\t\t\t\n",
      "Train Epoch: 5 [6336/6592 (96%)] Loss: 0.766196, Acc: 0.715593 (Cliente 0)\t\t\t\t\n",
      "Train Epoch: 6 [6336/6592 (96%)] Loss: 0.799121, Acc: 0.711490 (Cliente 0)\t\t\t\t\n",
      "Train Epoch: 7 [6336/6592 (96%)] Loss: 0.814869, Acc: 0.729482 (Cliente 0)\t\t\t\t\n",
      "Train Epoch: 8 [6336/6592 (96%)] Loss: 0.814261, Acc: 0.721907 (Cliente 0)\t\t\t\t\n",
      "Training 10 epoch(s) w/ 103 mini-batches each39, Acc: 0.717330 (Cliente 0)\t\t\t\t\n",
      "\n",
      "Train Epoch: 0 [6336/6592 (96%)] Loss: 1.013122, Acc: 0.713857 (Cliente 0)\t\t\t\t\n",
      "Train Epoch: 1 [6336/6592 (96%)] Loss: 0.637284, Acc: 0.717803 (Cliente 0)\t\t\t\t\n",
      "Train Epoch: 2 [6336/6592 (96%)] Loss: 0.644885, Acc: 0.722854 (Cliente 0)\t\t\t\t\n",
      "Train Epoch: 3 [6336/6592 (96%)] Loss: 0.630728, Acc: 0.715120 (Cliente 0)\t\t\t\t\n",
      "Train Epoch: 4 [6336/6592 (96%)] Loss: 0.807081, Acc: 0.715278 (Cliente 0)\t\t\t\t\n",
      "Train Epoch: 5 [6336/6592 (96%)] Loss: 0.729113, Acc: 0.726957 (Cliente 0)\t\t\t\t\n",
      "Train Epoch: 6 [6336/6592 (96%)] Loss: 0.812654, Acc: 0.719381 (Cliente 0)\t\t\t\t\n",
      "Train Epoch: 7 [6336/6592 (96%)] Loss: 1.003410, Acc: 0.722538 (Cliente 0)\t\t\t\t\n",
      "Train Epoch: 8 [6336/6592 (96%)] Loss: 0.920629, Acc: 0.713384 (Cliente 0)\t\t\t\t\n",
      "Training 10 epoch(s) w/ 103 mini-batches each89, Acc: 0.718277 (Cliente 0)\t\t\t\t\n",
      "\n",
      "Train Epoch: 0 [6336/6592 (96%)] Loss: 0.940994, Acc: 0.711648 (Cliente 0)\t\t\t\t\n",
      "Train Epoch: 1 [6336/6592 (96%)] Loss: 0.871548, Acc: 0.728378 (Cliente 0)\t\t\t\t\n",
      "Train Epoch: 2 [6336/6592 (96%)] Loss: 0.736217, Acc: 0.732797 (Cliente 0)\t\t\t\t\n",
      "Train Epoch: 3 [6336/6592 (96%)] Loss: 0.624673, Acc: 0.723958 (Cliente 0)\t\t\t\t\n",
      "Train Epoch: 4 [6336/6592 (96%)] Loss: 0.647964, Acc: 0.728378 (Cliente 0)\t\t\t\t\n",
      "Train Epoch: 5 [6336/6592 (96%)] Loss: 0.687672, Acc: 0.735795 (Cliente 0)\t\t\t\t\n",
      "Train Epoch: 6 [6336/6592 (96%)] Loss: 0.678689, Acc: 0.724432 (Cliente 0)\t\t\t\t\n",
      "Train Epoch: 7 [6336/6592 (96%)] Loss: 0.622452, Acc: 0.732481 (Cliente 0)\t\t\t\t\n",
      "Train Epoch: 8 [6336/6592 (96%)] Loss: 0.692667, Acc: 0.724747 (Cliente 0)\t\t\t\t\n",
      "Training 10 epoch(s) w/ 103 mini-batches each95, Acc: 0.718908 (Cliente 0)\t\t\t\t\n",
      "\n",
      "Train Epoch: 0 [6336/6592 (96%)] Loss: 0.605398, Acc: 0.721907 (Cliente 0)\t\t\t\t\n",
      "Train Epoch: 1 [6336/6592 (96%)] Loss: 0.690854, Acc: 0.721275 (Cliente 0)\t\t\t\t\n",
      "Train Epoch: 2 [6336/6592 (96%)] Loss: 0.600616, Acc: 0.736269 (Cliente 0)\t\t\t\t\n",
      "Train Epoch: 3 [6336/6592 (96%)] Loss: 0.717360, Acc: 0.730114 (Cliente 0)\t\t\t\t\n",
      "Train Epoch: 4 [6336/6592 (96%)] Loss: 0.701184, Acc: 0.724747 (Cliente 0)\t\t\t\t\n",
      "Train Epoch: 5 [6336/6592 (96%)] Loss: 0.799967, Acc: 0.737847 (Cliente 0)\t\t\t\t\n",
      "Train Epoch: 6 [6336/6592 (96%)] Loss: 1.020570, Acc: 0.738321 (Cliente 0)\t\t\t\t\n",
      "Train Epoch: 7 [6336/6592 (96%)] Loss: 0.625888, Acc: 0.720328 (Cliente 0)\t\t\t\t\n",
      "Train Epoch: 8 [6336/6592 (96%)] Loss: 0.984753, Acc: 0.726484 (Cliente 0)\t\t\t\t\n",
      "Train Epoch: 9 [6336/6592 (96%)] Loss: 1.087989, Acc: 0.731692 (Cliente 0)\t\t\t\t\r"
     ]
    },
    {
     "name": "stderr",
     "output_type": "stream",
     "text": [
      "DEBUG flower 2021-08-19 22:46:22,220 | connection.py:68 | Insecure gRPC channel closed\n",
      "INFO flower 2021-08-19 22:46:22,221 | app.py:72 | Disconnect and shut down\n"
     ]
    },
    {
     "name": "stdout",
     "output_type": "stream",
     "text": [
      "Client 0 - Evaluate on 6540 samples: Average loss: 0.0073, Accuracy: 85.31%\n",
      "\n"
     ]
    }
   ],
   "source": [
    "server_address = \"[::]:8081\"\n",
    "fl.client.start_client(server_address, client)"
   ]
  }
 ],
 "metadata": {
  "colab": {
   "collapsed_sections": [],
   "name": "2-HAR-client_1.ipynb",
   "provenance": []
  },
  "kernelspec": {
   "display_name": "Python 3",
   "language": "python",
   "name": "python3"
  },
  "language_info": {
   "codemirror_mode": {
    "name": "ipython",
    "version": 3
   },
   "file_extension": ".py",
   "mimetype": "text/x-python",
   "name": "python",
   "nbconvert_exporter": "python",
   "pygments_lexer": "ipython3",
   "version": "3.9.5"
  }
 },
 "nbformat": 4,
 "nbformat_minor": 1
}
