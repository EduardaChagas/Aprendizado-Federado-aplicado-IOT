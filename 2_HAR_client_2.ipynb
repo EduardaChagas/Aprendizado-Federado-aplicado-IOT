{
 "cells": [
  {
   "cell_type": "markdown",
   "metadata": {
    "id": "bj3F1nTZj1ho"
   },
   "source": [
    "# Hands On - Aprendizado Federado aplicado à Internet das Coisas\n",
    "\n",
    "**Notebook 2**: Criação de clientes no ambiente federado"
   ]
  },
  {
   "cell_type": "markdown",
   "metadata": {
    "id": "cJPTVnswkMdN"
   },
   "source": [
    "O reconhecimento da atividade humana é uma área de pesquisa ativa e que possui um enorme potencial de benefício com o uso de aprendizado federado (FL), já que tais dados são normalmente privados e possuem informações sensíveis sobre os usuários.\n",
    "Além disso, com FL também podemos desenvolver um modelo conjunto que consiga capturar a diversidade dos dados, algo que é extremamente difícil de ser coletado de forma individual.\n",
    "\n",
    "Sob esse contexto, nesse tutorial vamos aprender como definir clientes para o treinamento federado de uma rede neural para auxilar no reconhecimento de atividades humanas (*Human Activity Recognition* - HAR) usando o framework de aprendizado federado\n",
    "Flower em conjunto com a biblioteca de deep learning Pytorch."
   ]
  },
  {
   "cell_type": "markdown",
   "metadata": {
    "id": "2hX7rxsAk8CT"
   },
   "source": [
    "### Dataset\n",
    "\n",
    "Os dados serão particionados horizontalmente, assim os subconjuntos de treinamento e teste irão ser divididos em mini-batches (pequenos lotes) com base no número total de clientes.\n",
    "\n",
    "Para isso, aplicaremos uma função auxiliar para carregar os dados e definir os conjuntos de treinamento e teste.\n",
    "Nessa função, precisaremos dos seguintes parâmetros: \n",
    "\n",
    "* **data root (str)**: Diretório onde os datasets finais serão armazenados. \n",
    "\n",
    "* **train batch size (int)**: Tamanho do mini-batch usado nos dados de treinamento.\n",
    "\n",
    "* **test batch size (int)**: Tamanho do mini-batch usado nos dados de teste. \n",
    "\n",
    "* **id (int)**: Client ID usado para selecionar uma partição específica. \n",
    "\n",
    "* **nb clients (int)**: Número total de clientes usados no treinamento."
   ]
  },
  {
   "cell_type": "code",
   "execution_count": 1,
   "metadata": {
    "colab": {
     "base_uri": "https://localhost:8080/"
    },
    "id": "UVQzVKL2r67J",
    "outputId": "67066d3f-f7bb-412c-e76b-091aea68ff3c"
   },
   "outputs": [],
   "source": [
    "#Carregando os dados\n",
    "import flwr as fl\n",
    "import torch\n",
    "import auxiliary as aux\n",
    "\n",
    "DATA_ROOT = \"./data/pml-training.csv\"\n",
    "\n",
    "cid = 1\n",
    "nb_clients = 3\n",
    "train_batch_size = 64\n",
    "test_batch_size = 64\n",
    "epochs = 10\n",
    "\n",
    "# Load data\n",
    "train_loader, test_loader = aux.load_data(\n",
    "        data_root = DATA_ROOT,\n",
    "        train_batch_size = train_batch_size,\n",
    "        test_batch_size = test_batch_size,\n",
    "        cid = cid,\n",
    "        nb_clients = nb_clients + 1,\n",
    ")"
   ]
  },
  {
   "cell_type": "markdown",
   "metadata": {
    "id": "Arvhg44xrwWm"
   },
   "source": [
    "### Rede Neural\n",
    "\n",
    "Atualmente o modelo de classificação mais adequado e vantajoso para a modelagem de um ambiente federado são as redes neurais.\n",
    "Definimos essa configuração de arquitetura por meio da criação de uma classe em Pytorch denominada **HARmodel** presente no arquivo auxiliar *aux.py* adicionado."
   ]
  },
  {
   "cell_type": "markdown",
   "metadata": {
    "id": "-glqWQnYsGt3"
   },
   "source": [
    "### Cliente Flower\n",
    "\n",
    "O próximo passo é definir a alocação dos dispositivos no ambiente federado. \n",
    "\n",
    "Quando o servidor seleciona um dispositivo específico do ambiente federado para realizar um treinamento, ele envia as instruções pela rede, por meio de uma interface chamada **Client**.\n",
    "Assim, o cliente recebe as instruções do servidor e chama um dos métodos desta classe para executar seu código (ou seja, para treinar a sua rede neural local). \n",
    "\n",
    "O framework Flower fornece uma classe chamada *NumPyClient*, que torna mais fácil implementar a interface do cliente quando utilizamos PyTorch. \n",
    "Quando implementamos um NumPyClient devemos definir os seguintes métodos: \n",
    "\n",
    "* **get_parameters**: retorna o peso do modelo\n",
    "como uma lista de ndarrays \n",
    "\n",
    "* **set_parameters** (opcional): atualiza os pesos do modelo\n",
    "local com os parâmetros recebidos do servidor \n",
    "\n",
    "* **fit**: define os pesos do modelo local, treina o modelo localmente e recebe o update dos pesos locais \n",
    "\n",
    "* **evaluate**: define como o modelo local será testado. \n",
    "\n",
    "Abaixo mostramos como a classe Client foi implementada\n",
    "para o caso de estudo apresentado:"
   ]
  },
  {
   "cell_type": "code",
   "execution_count": 2,
   "metadata": {},
   "outputs": [],
   "source": [
    "class FlowerClient(fl.client.Client):\n",
    "    \"\"\"Flower client implementing classification using PyTorch.\"\"\"\n",
    "\n",
    "    def __init__(self, cid, train_loader, test_loader, epochs, device: torch.device = torch.device(\"cpu\")):\n",
    "        \n",
    "        self.model = HARmodel(40, 5).to(device)\n",
    "        self.cid = cid\n",
    "        self.train_loader = train_loader\n",
    "        self.test_loader = test_loader\n",
    "        self.device = device\n",
    "        self.epochs = epochs\n",
    "\n",
    "    def get_weights(self):\n",
    "        \"\"\"Get model weights as a list of NumPy ndarrays.\"\"\"\n",
    "        return [val.cpu().numpy() for _, val in self.model.state_dict().items()]\n",
    "\n",
    "    def set_weights(self, weights):\n",
    "        \"\"\"Set model weights from a list of NumPy ndarrays.\n",
    "        Parameters\n",
    "        ----------\n",
    "        weights: fl.common.Weights\n",
    "            Weights received by the server and set to local model\n",
    "        Returns\n",
    "        -------\n",
    "        \"\"\"\n",
    "        state_dict = OrderedDict(\n",
    "            {\n",
    "                k: torch.Tensor(v)\n",
    "                for k, v in zip(self.model.state_dict().keys(), weights)\n",
    "            }\n",
    "        )\n",
    "        self.model.load_state_dict(state_dict, strict=True)\n",
    "\n",
    "    def get_parameters(self):\n",
    "        \"\"\"Encapsulates the weights into Flower Parameters \"\"\"\n",
    "        weights: fl.common.Weights = self.get_weights()\n",
    "        parameters = fl.common.weights_to_parameters(weights)\n",
    "        return fl.common.ParametersRes(parameters=parameters)\n",
    "\n",
    "    def fit(self, ins):\n",
    "        \"\"\"Trains the model on local dataset\n",
    "        Parameters\n",
    "        ----------\n",
    "        ins: fl.common.FitIns\n",
    "           Parameters sent by the server to be used during training.\n",
    "        Returns\n",
    "        -------\n",
    "            Set of variables containing the new set of weights and information the client.\n",
    "        \"\"\"\n",
    "\n",
    "        # Set the seed so we are sure to generate the same global batches\n",
    "        # indices across all clients\n",
    "        np.random.seed(123)\n",
    "\n",
    "        weights: fl.common.Weights = fl.common.parameters_to_weights(ins.parameters)\n",
    "        fit_begin = timeit.default_timer()\n",
    "\n",
    "        # Set model parameters/weights\n",
    "        self.set_weights(weights)\n",
    "\n",
    "        # Train model\n",
    "        num_examples_train: int = train(\n",
    "            self.model, self.train_loader, epochs = self.epochs, device = self.device, cid = self.cid\n",
    "        )\n",
    "\n",
    "        # Return the refined weights and the number of examples used for training\n",
    "        weights_prime: fl.common.Weights = self.get_weights()\n",
    "        params_prime = fl.common.weights_to_parameters(weights_prime)\n",
    "        fit_duration = timeit.default_timer() - fit_begin\n",
    "        return fl.common.FitRes(\n",
    "            parameters = params_prime,\n",
    "            num_examples = num_examples_train,\n",
    "            num_examples_ceil = num_examples_train,\n",
    "            fit_duration = fit_duration,\n",
    "        )\n",
    "\n",
    "    def evaluate(self, ins):\n",
    "        \"\"\"\n",
    "        Parameters\n",
    "        ----------\n",
    "        ins: fl.common.EvaluateIns\n",
    "           Parameters sent by the server to be used during testing.\n",
    "        Returns\n",
    "        -------\n",
    "            Information the clients testing results.\n",
    "        \"\"\"\n",
    "        weights = fl.common.parameters_to_weights(ins.parameters)\n",
    "\n",
    "        # Use provided weights to update the local model\n",
    "        self.set_weights(weights)\n",
    "\n",
    "        (num_examples_test, test_loss, accuracy) = test(self.model, self.test_loader, device = self.device)\n",
    "        print(f\"Client {self.cid} - Evaluate on {num_examples_test} samples: Average loss: {test_loss:.4f}, Accuracy: {100*accuracy:.2f}%\\n\")\n",
    "\n",
    "        # Return the number of evaluation examples and the evaluation result (loss)\n",
    "        return fl.common.EvaluateRes(\n",
    "            num_examples = num_examples_test,\n",
    "            loss = float(test_loss),\n",
    "            accuracy = float(accuracy),\n",
    "        )"
   ]
  },
  {
   "cell_type": "markdown",
   "metadata": {},
   "source": [
    "### Instanciando o cliente"
   ]
  },
  {
   "cell_type": "code",
   "execution_count": 3,
   "metadata": {
    "id": "MEUIciNJ69re"
   },
   "outputs": [],
   "source": [
    "device = torch.device(\"cuda\" if torch.cuda.is_available() else \"cpu\")\n",
    "\n",
    "client = aux.FlowerClient(\n",
    "    cid = cid,\n",
    "    train_loader = train_loader,\n",
    "    test_loader = test_loader,\n",
    "    epochs = epochs,\n",
    "    device = device,\n",
    ")"
   ]
  },
  {
   "cell_type": "markdown",
   "metadata": {
    "id": "yNxtUr3s67hn"
   },
   "source": [
    "### Inicializando o cliente\n",
    "\n",
    "O flower nos fornece a possibilidade de rodar o servidor e o cliente na mesma máquina, configurando o endereço do servidor como \"[::]: 8080\". \n",
    "Porém, se quisermos implementar uma aplicação realmente federada com o servidor e clientes em execução em diferentes máquinas, precisaremos apenas alterar o server address para o respectivo endereço da máquina do cliente."
   ]
  },
  {
   "cell_type": "code",
   "execution_count": 4,
   "metadata": {
    "id": "CD9ie8II7QHB",
    "scrolled": false
   },
   "outputs": [
    {
     "name": "stderr",
     "output_type": "stream",
     "text": [
      "DEBUG flower 2021-08-20 00:20:38,860 | connection.py:36 | ChannelConnectivity.IDLE\n",
      "DEBUG flower 2021-08-20 00:20:38,862 | connection.py:36 | ChannelConnectivity.CONNECTING\n",
      "INFO flower 2021-08-20 00:20:38,862 | app.py:61 | Opened (insecure) gRPC connection\n",
      "DEBUG flower 2021-08-20 00:20:38,863 | connection.py:36 | ChannelConnectivity.READY\n"
     ]
    },
    {
     "name": "stdout",
     "output_type": "stream",
     "text": [
      "Training 10 epoch(s) w/ 77 mini-batches each\n",
      "\n",
      "Train Epoch: 0 [4416/4928 (90%)] Loss: 1.692060, Acc: 0.232337 (Cliente 1)\t\t\t\t\n",
      "Train Epoch: 1 [4416/4928 (90%)] Loss: 1.518233, Acc: 0.288270 (Cliente 1)\t\t\t\t\n",
      "Train Epoch: 2 [4416/4928 (90%)] Loss: 1.354666, Acc: 0.318388 (Cliente 1)\t\t\t\t\n",
      "Train Epoch: 3 [4416/4928 (90%)] Loss: 1.453948, Acc: 0.369565 (Cliente 1)\t\t\t\t\n",
      "Train Epoch: 4 [4416/4928 (90%)] Loss: 1.404898, Acc: 0.406250 (Cliente 1)\t\t\t\t\n",
      "Train Epoch: 5 [4416/4928 (90%)] Loss: 1.355709, Acc: 0.445426 (Cliente 1)\t\t\t\t\n",
      "Train Epoch: 6 [4416/4928 (90%)] Loss: 1.284348, Acc: 0.462183 (Cliente 1)\t\t\t\t\n",
      "Train Epoch: 7 [4416/4928 (90%)] Loss: 1.345508, Acc: 0.489583 (Cliente 1)\t\t\t\t\n",
      "Train Epoch: 8 [4416/4928 (90%)] Loss: 1.291716, Acc: 0.501812 (Cliente 1)\t\t\t\t\n",
      "Training 10 epoch(s) w/ 77 mini-batches each383, Acc: 0.522418 (Cliente 1)\t\t\t\t\n",
      "\n",
      "Train Epoch: 0 [4416/4928 (90%)] Loss: 1.195801, Acc: 0.488451 (Cliente 1)\t\t\t\t\n",
      "Train Epoch: 1 [4416/4928 (90%)] Loss: 1.189295, Acc: 0.518116 (Cliente 1)\t\t\t\t\n",
      "Train Epoch: 2 [4416/4928 (90%)] Loss: 1.117781, Acc: 0.535779 (Cliente 1)\t\t\t\t\n",
      "Train Epoch: 3 [4416/4928 (90%)] Loss: 1.207228, Acc: 0.547554 (Cliente 1)\t\t\t\t\n",
      "Train Epoch: 4 [4416/4928 (90%)] Loss: 1.290425, Acc: 0.556386 (Cliente 1)\t\t\t\t\n",
      "Train Epoch: 5 [4416/4928 (90%)] Loss: 1.181997, Acc: 0.568388 (Cliente 1)\t\t\t\t\n",
      "Train Epoch: 6 [4416/4928 (90%)] Loss: 0.882497, Acc: 0.573143 (Cliente 1)\t\t\t\t\n",
      "Train Epoch: 7 [4416/4928 (90%)] Loss: 0.987610, Acc: 0.572917 (Cliente 1)\t\t\t\t\n",
      "Train Epoch: 8 [4416/4928 (90%)] Loss: 1.098803, Acc: 0.580163 (Cliente 1)\t\t\t\t\n",
      "Training 10 epoch(s) w/ 77 mini-batches each257, Acc: 0.583107 (Cliente 1)\t\t\t\t\n",
      "\n",
      "Train Epoch: 0 [4416/4928 (90%)] Loss: 1.049007, Acc: 0.568388 (Cliente 1)\t\t\t\t\n",
      "Train Epoch: 1 [4416/4928 (90%)] Loss: 1.025777, Acc: 0.587862 (Cliente 1)\t\t\t\t\n",
      "Train Epoch: 2 [4416/4928 (90%)] Loss: 1.162791, Acc: 0.596241 (Cliente 1)\t\t\t\t\n",
      "Train Epoch: 3 [4416/4928 (90%)] Loss: 0.938091, Acc: 0.593750 (Cliente 1)\t\t\t\t\n",
      "Train Epoch: 4 [4416/4928 (90%)] Loss: 0.954157, Acc: 0.607337 (Cliente 1)\t\t\t\t\n",
      "Train Epoch: 5 [4416/4928 (90%)] Loss: 0.980276, Acc: 0.610281 (Cliente 1)\t\t\t\t\n",
      "Train Epoch: 6 [4416/4928 (90%)] Loss: 1.097954, Acc: 0.608243 (Cliente 1)\t\t\t\t\n",
      "Train Epoch: 7 [4416/4928 (90%)] Loss: 0.980008, Acc: 0.617754 (Cliente 1)\t\t\t\t\n",
      "Train Epoch: 8 [4416/4928 (90%)] Loss: 0.926335, Acc: 0.624321 (Cliente 1)\t\t\t\t\n",
      "Training 10 epoch(s) w/ 77 mini-batches each161, Acc: 0.634284 (Cliente 1)\t\t\t\t\n",
      "\n",
      "Train Epoch: 0 [4416/4928 (90%)] Loss: 0.945398, Acc: 0.629303 (Cliente 1)\t\t\t\t\n",
      "Train Epoch: 1 [4416/4928 (90%)] Loss: 0.761778, Acc: 0.624321 (Cliente 1)\t\t\t\t\n",
      "Train Epoch: 2 [4416/4928 (90%)] Loss: 0.888438, Acc: 0.644022 (Cliente 1)\t\t\t\t\n",
      "Train Epoch: 3 [4416/4928 (90%)] Loss: 0.732660, Acc: 0.645607 (Cliente 1)\t\t\t\t\n",
      "Train Epoch: 4 [4416/4928 (90%)] Loss: 0.740098, Acc: 0.658062 (Cliente 1)\t\t\t\t\n",
      "Train Epoch: 5 [4416/4928 (90%)] Loss: 0.760478, Acc: 0.647871 (Cliente 1)\t\t\t\t\n",
      "Train Epoch: 6 [4416/4928 (90%)] Loss: 0.930635, Acc: 0.645154 (Cliente 1)\t\t\t\t\n",
      "Train Epoch: 7 [4416/4928 (90%)] Loss: 0.940293, Acc: 0.648551 (Cliente 1)\t\t\t\t\n",
      "Train Epoch: 8 [4416/4928 (90%)] Loss: 1.146826, Acc: 0.650815 (Cliente 1)\t\t\t\t\n",
      "Training 10 epoch(s) w/ 77 mini-batches each924, Acc: 0.653080 (Cliente 1)\t\t\t\t\n",
      "\n",
      "Train Epoch: 0 [4416/4928 (90%)] Loss: 0.898466, Acc: 0.642437 (Cliente 1)\t\t\t\t\n",
      "Train Epoch: 1 [4416/4928 (90%)] Loss: 0.743403, Acc: 0.650589 (Cliente 1)\t\t\t\t\n",
      "Train Epoch: 2 [4416/4928 (90%)] Loss: 0.825746, Acc: 0.657156 (Cliente 1)\t\t\t\t\n",
      "Train Epoch: 3 [4416/4928 (90%)] Loss: 0.771788, Acc: 0.664629 (Cliente 1)\t\t\t\t\n",
      "Train Epoch: 4 [4416/4928 (90%)] Loss: 0.811221, Acc: 0.664629 (Cliente 1)\t\t\t\t\n",
      "Train Epoch: 5 [4416/4928 (90%)] Loss: 0.823274, Acc: 0.672781 (Cliente 1)\t\t\t\t\n",
      "Train Epoch: 6 [4416/4928 (90%)] Loss: 0.854072, Acc: 0.665761 (Cliente 1)\t\t\t\t\n",
      "Train Epoch: 7 [4416/4928 (90%)] Loss: 1.016557, Acc: 0.680254 (Cliente 1)\t\t\t\t\n",
      "Train Epoch: 8 [4416/4928 (90%)] Loss: 0.905946, Acc: 0.674819 (Cliente 1)\t\t\t\t\n",
      "Training 10 epoch(s) w/ 77 mini-batches each778, Acc: 0.661911 (Cliente 1)\t\t\t\t\n",
      "\n",
      "Train Epoch: 0 [4416/4928 (90%)] Loss: 0.745678, Acc: 0.660553 (Cliente 1)\t\t\t\t\n",
      "Train Epoch: 1 [4416/4928 (90%)] Loss: 0.714145, Acc: 0.667572 (Cliente 1)\t\t\t\t\n",
      "Train Epoch: 2 [4416/4928 (90%)] Loss: 0.909015, Acc: 0.670516 (Cliente 1)\t\t\t\t\n",
      "Train Epoch: 3 [4416/4928 (90%)] Loss: 1.269633, Acc: 0.669384 (Cliente 1)\t\t\t\t\n",
      "Train Epoch: 4 [4416/4928 (90%)] Loss: 0.811259, Acc: 0.669611 (Cliente 1)\t\t\t\t\n",
      "Train Epoch: 5 [4416/4928 (90%)] Loss: 0.915000, Acc: 0.674139 (Cliente 1)\t\t\t\t\n",
      "Train Epoch: 6 [4416/4928 (90%)] Loss: 0.751354, Acc: 0.682065 (Cliente 1)\t\t\t\t\n",
      "Train Epoch: 7 [4416/4928 (90%)] Loss: 0.866218, Acc: 0.681159 (Cliente 1)\t\t\t\t\n",
      "Train Epoch: 8 [4416/4928 (90%)] Loss: 0.558562, Acc: 0.676404 (Cliente 1)\t\t\t\t\n",
      "Training 10 epoch(s) w/ 77 mini-batches each465, Acc: 0.687726 (Cliente 1)\t\t\t\t\n",
      "\n",
      "Train Epoch: 0 [4416/4928 (90%)] Loss: 0.835106, Acc: 0.661005 (Cliente 1)\t\t\t\t\n",
      "Train Epoch: 1 [4416/4928 (90%)] Loss: 0.829049, Acc: 0.691803 (Cliente 1)\t\t\t\t\n",
      "Train Epoch: 2 [4416/4928 (90%)] Loss: 0.859820, Acc: 0.683424 (Cliente 1)\t\t\t\t\n",
      "Train Epoch: 3 [4416/4928 (90%)] Loss: 0.944048, Acc: 0.683197 (Cliente 1)\t\t\t\t\n",
      "Train Epoch: 4 [4416/4928 (90%)] Loss: 0.763625, Acc: 0.692482 (Cliente 1)\t\t\t\t\n",
      "Train Epoch: 5 [4416/4928 (90%)] Loss: 0.818126, Acc: 0.688179 (Cliente 1)\t\t\t\t\n",
      "Train Epoch: 6 [4416/4928 (90%)] Loss: 0.805951, Acc: 0.682065 (Cliente 1)\t\t\t\t\n",
      "Train Epoch: 7 [4416/4928 (90%)] Loss: 0.871871, Acc: 0.692482 (Cliente 1)\t\t\t\t\n",
      "Train Epoch: 8 [4416/4928 (90%)] Loss: 0.764536, Acc: 0.691803 (Cliente 1)\t\t\t\t\n",
      "Training 10 epoch(s) w/ 77 mini-batches each969, Acc: 0.688632 (Cliente 1)\t\t\t\t\n",
      "\n",
      "Train Epoch: 0 [4416/4928 (90%)] Loss: 0.524635, Acc: 0.681386 (Cliente 1)\t\t\t\t\n",
      "Train Epoch: 1 [4416/4928 (90%)] Loss: 0.813601, Acc: 0.690897 (Cliente 1)\t\t\t\t\n",
      "Train Epoch: 2 [4416/4928 (90%)] Loss: 0.942600, Acc: 0.679121 (Cliente 1)\t\t\t\t\n",
      "Train Epoch: 3 [4416/4928 (90%)] Loss: 0.898622, Acc: 0.685915 (Cliente 1)\t\t\t\t\n",
      "Train Epoch: 4 [4416/4928 (90%)] Loss: 0.885701, Acc: 0.685915 (Cliente 1)\t\t\t\t\n",
      "Train Epoch: 5 [4416/4928 (90%)] Loss: 0.788720, Acc: 0.690670 (Cliente 1)\t\t\t\t\n",
      "Train Epoch: 6 [4416/4928 (90%)] Loss: 0.582342, Acc: 0.696332 (Cliente 1)\t\t\t\t\n",
      "Train Epoch: 7 [4416/4928 (90%)] Loss: 0.881537, Acc: 0.694520 (Cliente 1)\t\t\t\t\n",
      "Train Epoch: 8 [4416/4928 (90%)] Loss: 0.786754, Acc: 0.701540 (Cliente 1)\t\t\t\t\n",
      "Training 10 epoch(s) w/ 77 mini-batches each865, Acc: 0.704257 (Cliente 1)\t\t\t\t\n",
      "\n",
      "Train Epoch: 0 [4416/4928 (90%)] Loss: 0.795443, Acc: 0.684556 (Cliente 1)\t\t\t\t\n",
      "Train Epoch: 1 [4416/4928 (90%)] Loss: 0.767602, Acc: 0.698370 (Cliente 1)\t\t\t\t\n",
      "Train Epoch: 2 [4416/4928 (90%)] Loss: 0.778361, Acc: 0.699955 (Cliente 1)\t\t\t\t\n",
      "Train Epoch: 3 [4416/4928 (90%)] Loss: 1.085171, Acc: 0.702219 (Cliente 1)\t\t\t\t\n",
      "Train Epoch: 4 [4416/4928 (90%)] Loss: 0.900648, Acc: 0.699728 (Cliente 1)\t\t\t\t\n",
      "Train Epoch: 5 [4416/4928 (90%)] Loss: 0.601534, Acc: 0.698370 (Cliente 1)\t\t\t\t\n",
      "Train Epoch: 6 [4416/4928 (90%)] Loss: 1.008799, Acc: 0.706069 (Cliente 1)\t\t\t\t\n",
      "Train Epoch: 7 [4416/4928 (90%)] Loss: 0.844304, Acc: 0.705842 (Cliente 1)\t\t\t\t\n",
      "Train Epoch: 8 [4416/4928 (90%)] Loss: 0.777356, Acc: 0.712636 (Cliente 1)\t\t\t\t\n",
      "Training 10 epoch(s) w/ 77 mini-batches each527, Acc: 0.707201 (Cliente 1)\t\t\t\t\n",
      "\n",
      "Train Epoch: 0 [4416/4928 (90%)] Loss: 0.748586, Acc: 0.698370 (Cliente 1)\t\t\t\t\n",
      "Train Epoch: 1 [4416/4928 (90%)] Loss: 0.781218, Acc: 0.705163 (Cliente 1)\t\t\t\t\n",
      "Train Epoch: 2 [4416/4928 (90%)] Loss: 0.904758, Acc: 0.704031 (Cliente 1)\t\t\t\t\n",
      "Train Epoch: 3 [4416/4928 (90%)] Loss: 0.601992, Acc: 0.712409 (Cliente 1)\t\t\t\t\n",
      "Train Epoch: 4 [4416/4928 (90%)] Loss: 0.900459, Acc: 0.713768 (Cliente 1)\t\t\t\t\n",
      "Train Epoch: 5 [4416/4928 (90%)] Loss: 1.006736, Acc: 0.715353 (Cliente 1)\t\t\t\t\n",
      "Train Epoch: 6 [4416/4928 (90%)] Loss: 0.845248, Acc: 0.707428 (Cliente 1)\t\t\t\t\n",
      "Train Epoch: 7 [4416/4928 (90%)] Loss: 0.693407, Acc: 0.708560 (Cliente 1)\t\t\t\t\n",
      "Train Epoch: 8 [4416/4928 (90%)] Loss: 0.598668, Acc: 0.710598 (Cliente 1)\t\t\t\t\n",
      "Train Epoch: 9 [4416/4928 (90%)] Loss: 0.973586, Acc: 0.712183 (Cliente 1)\t\t\t\t\r"
     ]
    },
    {
     "name": "stderr",
     "output_type": "stream",
     "text": [
      "DEBUG flower 2021-08-20 00:21:43,838 | connection.py:68 | Insecure gRPC channel closed\n",
      "INFO flower 2021-08-20 00:21:43,852 | app.py:72 | Disconnect and shut down\n"
     ]
    },
    {
     "name": "stdout",
     "output_type": "stream",
     "text": [
      "Client 1 - Evaluate on 4905 samples: Average loss: 0.0085, Accuracy: 80.53%\n",
      "\n"
     ]
    }
   ],
   "source": [
    "client_address = \"[::]:8081\"\n",
    "fl.client.start_client(client_address, client)"
   ]
  }
 ],
 "metadata": {
  "colab": {
   "collapsed_sections": [],
   "name": "2-HAR-client_1.ipynb",
   "provenance": []
  },
  "kernelspec": {
   "display_name": "Python 3 (ipykernel)",
   "language": "python",
   "name": "python3"
  },
  "language_info": {
   "codemirror_mode": {
    "name": "ipython",
    "version": 3
   },
   "file_extension": ".py",
   "mimetype": "text/x-python",
   "name": "python",
   "nbconvert_exporter": "python",
   "pygments_lexer": "ipython3",
   "version": "3.8.5"
  }
 },
 "nbformat": 4,
 "nbformat_minor": 1
}
