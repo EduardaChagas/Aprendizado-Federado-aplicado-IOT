{
 "cells": [
  {
   "cell_type": "markdown",
   "metadata": {
    "id": "bj3F1nTZj1ho"
   },
   "source": [
    "# Hands On - Aprendizado Federado aplicado à Internet das Coisas\n",
    "\n",
    "**Notebook 2**: Criação de clientes no ambiente federado"
   ]
  },
  {
   "cell_type": "markdown",
   "metadata": {
    "id": "cJPTVnswkMdN"
   },
   "source": [
    "O reconhecimento da atividade humana é uma área de pesquisa ativa e que possui um enorme potencial de benefício com o uso de aprendizado federado (FL), já que tais dados são normalmente privados e possuem informações sensíveis sobre os usuários.\n",
    "Além disso, com FL também podemos desenvolver um modelo conjunto que consiga capturar a diversidade dos dados, algo que é extremamente difícil de ser coletado de forma individual.\n",
    "\n",
    "Sob esse contexto, nesse tutorial vamos aprender como definir clientes para o treinamento federado de uma rede neural para auxilar no reconhecimento de atividades humanas (*Human Activity Recognition* - HAR) usando o framework de aprendizado federado\n",
    "Flower em conjunto com a biblioteca de deep learning Pytorch."
   ]
  },
  {
   "cell_type": "markdown",
   "metadata": {
    "id": "2hX7rxsAk8CT"
   },
   "source": [
    "### Dataset\n",
    "\n",
    "Os dados serão particionados horizontalmente, assim os subconjuntos de treinamento e teste irão ser divididos em mini-batches (pequenos lotes) com base no número total de clientes.\n",
    "\n",
    "Para isso, aplicaremos uma função auxiliar para carregar os dados e definir os conjuntos de treinamento e teste.\n",
    "Nessa função, precisaremos dos seguintes parâmetros: \n",
    "\n",
    "* **data root (str)**: Diretório onde os datasets finais serão armazenados. \n",
    "\n",
    "* **train batch size (int)**: Tamanho do mini-batch usado nos dados de treinamento.\n",
    "\n",
    "* **test batch size (int)**: Tamanho do mini-batch usado nos dados de teste. \n",
    "\n",
    "* **id (int)**: Client ID usado para selecionar uma partição específica. \n",
    "\n",
    "* **nb clients (int)**: Número total de clientes usados no treinamento."
   ]
  },
  {
   "cell_type": "code",
   "execution_count": 1,
   "metadata": {
    "colab": {
     "base_uri": "https://localhost:8080/"
    },
    "id": "UVQzVKL2r67J",
    "outputId": "67066d3f-f7bb-412c-e76b-091aea68ff3c"
   },
   "outputs": [],
   "source": [
    "#Carregando os dados\n",
    "import flwr as fl\n",
    "import torch\n",
    "import aux\n",
    "\n",
    "DATA_ROOT = \"./data/pml-training.csv\"\n",
    "\n",
    "cid = 0\n",
    "nb_clients = 3\n",
    "train_batch_size = 64\n",
    "test_batch_size = 64\n",
    "epochs = 10\n",
    "\n",
    "# Load data\n",
    "train_loader, test_loader = aux.load_data(\n",
    "        data_root = DATA_ROOT,\n",
    "        train_batch_size = train_batch_size,\n",
    "        test_batch_size = test_batch_size,\n",
    "        cid = cid,\n",
    "        nb_clients = nb_clients + 1,\n",
    ")"
   ]
  },
  {
   "cell_type": "markdown",
   "metadata": {
    "id": "Arvhg44xrwWm"
   },
   "source": [
    "### Rede Neural\n",
    "\n",
    "Atualmente o modelo de classificação mais adequado e vantajoso para a modelagem de um ambiente federado são as redes neurais.\n",
    "Definimos essa configuração de arquitetura por meio da criação de uma classe em Pytorch denominada **HARmodel** presente no arquivo auxiliar *aux.py* adicionado."
   ]
  },
  {
   "cell_type": "markdown",
   "metadata": {
    "id": "-glqWQnYsGt3"
   },
   "source": [
    "### Cliente Flower\n",
    "\n",
    "O próximo passo é definir a alocação dos dispositivos no ambiente federado. \n",
    "\n",
    "Quando o servidor seleciona um dispositivo específico do ambiente federado para realizar um treinamento, ele envia as instruções pela rede, por meio de uma interface chamada **Client**.\n",
    "Assim, o cliente recebe as instruções do servidor e chama um dos métodos desta classe para executar seu código (ou seja, para treinar a sua rede neural local). \n",
    "\n",
    "O framework Flower fornece uma classe chamada *NumPyClient*, que torna mais fácil implementar a interface do cliente quando utilizamos PyTorch. \n",
    "Quando implementamos um NumPyClient devemos definir os seguintes métodos: \n",
    "\n",
    "* **get_parameters**: retorna o peso do modelo\n",
    "como uma lista de ndarrays \n",
    "\n",
    "* **set_parameters** (opcional): atualiza os pesos do modelo\n",
    "local com os parâmetros recebidos do servidor \n",
    "\n",
    "* **fit**: define os pesos do modelo local, treina o modelo localmente e recebe o update dos pesos locais \n",
    "\n",
    "* **evaluate**: define como o modelo local será testado. \n",
    "\n",
    "Abaixo mostramos como a classe Client foi implementada\n",
    "para o caso de estudo apresentado:"
   ]
  },
  {
   "cell_type": "code",
   "execution_count": 2,
   "metadata": {},
   "outputs": [],
   "source": [
    "class FlowerClient(fl.client.Client):\n",
    "    \"\"\"Flower client implementing classification using PyTorch.\"\"\"\n",
    "\n",
    "    def __init__(self, cid, train_loader, test_loader, epochs, device: torch.device = torch.device(\"cpu\")):\n",
    "        \n",
    "        self.model = HARmodel(40, 5).to(device)\n",
    "        self.cid = cid\n",
    "        self.train_loader = train_loader\n",
    "        self.test_loader = test_loader\n",
    "        self.device = device\n",
    "        self.epochs = epochs\n",
    "\n",
    "    def get_weights(self):\n",
    "        \"\"\"Get model weights as a list of NumPy ndarrays.\"\"\"\n",
    "        return [val.cpu().numpy() for _, val in self.model.state_dict().items()]\n",
    "\n",
    "    def set_weights(self, weights):\n",
    "        \"\"\"Set model weights from a list of NumPy ndarrays.\n",
    "        Parameters\n",
    "        ----------\n",
    "        weights: fl.common.Weights\n",
    "            Weights received by the server and set to local model\n",
    "        Returns\n",
    "        -------\n",
    "        \"\"\"\n",
    "        state_dict = OrderedDict(\n",
    "            {\n",
    "                k: torch.Tensor(v)\n",
    "                for k, v in zip(self.model.state_dict().keys(), weights)\n",
    "            }\n",
    "        )\n",
    "        self.model.load_state_dict(state_dict, strict=True)\n",
    "\n",
    "    def get_parameters(self):\n",
    "        \"\"\"Encapsulates the weights into Flower Parameters \"\"\"\n",
    "        weights: fl.common.Weights = self.get_weights()\n",
    "        parameters = fl.common.weights_to_parameters(weights)\n",
    "        return fl.common.ParametersRes(parameters=parameters)\n",
    "\n",
    "    def fit(self, ins):\n",
    "        \"\"\"Trains the model on local dataset\n",
    "        Parameters\n",
    "        ----------\n",
    "        ins: fl.common.FitIns\n",
    "           Parameters sent by the server to be used during training.\n",
    "        Returns\n",
    "        -------\n",
    "            Set of variables containing the new set of weights and information the client.\n",
    "        \"\"\"\n",
    "\n",
    "        # Set the seed so we are sure to generate the same global batches\n",
    "        # indices across all clients\n",
    "        np.random.seed(123)\n",
    "\n",
    "        weights: fl.common.Weights = fl.common.parameters_to_weights(ins.parameters)\n",
    "        fit_begin = timeit.default_timer()\n",
    "\n",
    "        # Set model parameters/weights\n",
    "        self.set_weights(weights)\n",
    "\n",
    "        # Train model\n",
    "        num_examples_train: int = train(\n",
    "            self.model, self.train_loader, epochs = self.epochs, device = self.device, cid = self.cid\n",
    "        )\n",
    "\n",
    "        # Return the refined weights and the number of examples used for training\n",
    "        weights_prime: fl.common.Weights = self.get_weights()\n",
    "        params_prime = fl.common.weights_to_parameters(weights_prime)\n",
    "        fit_duration = timeit.default_timer() - fit_begin\n",
    "        return fl.common.FitRes(\n",
    "            parameters = params_prime,\n",
    "            num_examples = num_examples_train,\n",
    "            num_examples_ceil = num_examples_train,\n",
    "            fit_duration = fit_duration,\n",
    "        )\n",
    "\n",
    "    def evaluate(self, ins):\n",
    "        \"\"\"\n",
    "        Parameters\n",
    "        ----------\n",
    "        ins: fl.common.EvaluateIns\n",
    "           Parameters sent by the server to be used during testing.\n",
    "        Returns\n",
    "        -------\n",
    "            Information the clients testing results.\n",
    "        \"\"\"\n",
    "        weights = fl.common.parameters_to_weights(ins.parameters)\n",
    "\n",
    "        # Use provided weights to update the local model\n",
    "        self.set_weights(weights)\n",
    "\n",
    "        (num_examples_test, test_loss, accuracy) = test(self.model, self.test_loader, device = self.device)\n",
    "        print(f\"Client {self.cid} - Evaluate on {num_examples_test} samples: Average loss: {test_loss:.4f}, Accuracy: {100*accuracy:.2f}%\\n\")\n",
    "\n",
    "        # Return the number of evaluation examples and the evaluation result (loss)\n",
    "        return fl.common.EvaluateRes(\n",
    "            num_examples = num_examples_test,\n",
    "            loss = float(test_loss),\n",
    "            accuracy = float(accuracy),\n",
    "        )"
   ]
  },
  {
   "cell_type": "markdown",
   "metadata": {},
   "source": [
    "### Instanciando o cliente"
   ]
  },
  {
   "cell_type": "code",
   "execution_count": 3,
   "metadata": {
    "id": "MEUIciNJ69re"
   },
   "outputs": [],
   "source": [
    "device = torch.device(\"cuda\" if torch.cuda.is_available() else \"cpu\")\n",
    "\n",
    "client = aux.FlowerClient(\n",
    "    cid = cid,\n",
    "    train_loader = train_loader,\n",
    "    test_loader = test_loader,\n",
    "    epochs = epochs,\n",
    "    device = device,\n",
    ")"
   ]
  },
  {
   "cell_type": "markdown",
   "metadata": {
    "id": "yNxtUr3s67hn"
   },
   "source": [
    "### Inicializando o cliente\n",
    "\n",
    "O flower nos fornece a possibilidade de rodar o servidor e o cliente na mesma máquina, configurando o endereço do servidor como \"[::]: 8080\". \n",
    "Porém, se quisermos implementar uma aplicação realmente federada com o servidor e clientes em execução em diferentes máquinas, precisaremos apenas alterar o server address para o respectivo endereço da máquina do cliente."
   ]
  },
  {
   "cell_type": "code",
   "execution_count": 4,
   "metadata": {
    "id": "CD9ie8II7QHB",
    "scrolled": false
   },
   "outputs": [
    {
     "name": "stderr",
     "output_type": "stream",
     "text": [
      "DEBUG flower 2021-08-19 22:45:11,661 | connection.py:36 | ChannelConnectivity.IDLE\n",
      "DEBUG flower 2021-08-19 22:45:11,662 | connection.py:36 | ChannelConnectivity.READY\n",
      "INFO flower 2021-08-19 22:45:11,664 | app.py:61 | Opened (insecure) gRPC connection\n"
     ]
    },
    {
     "name": "stdout",
     "output_type": "stream",
     "text": [
      "Training 10 epoch(s) w/ 103 mini-batches each\n",
      "\n",
      "Train Epoch: 0 [6336/6592 (96%)] Loss: 1.563531, Acc: 0.239426 (Cliente 1)\t\t\t\t\n",
      "Train Epoch: 1 [6336/6592 (96%)] Loss: 1.536613, Acc: 0.299716 (Cliente 1)\t\t\t\t\n",
      "Train Epoch: 2 [6336/6592 (96%)] Loss: 1.516144, Acc: 0.334280 (Cliente 1)\t\t\t\t\n",
      "Train Epoch: 3 [6336/6592 (96%)] Loss: 1.305123, Acc: 0.379261 (Cliente 1)\t\t\t\t\n",
      "Train Epoch: 4 [6336/6592 (96%)] Loss: 1.403557, Acc: 0.425347 (Cliente 1)\t\t\t\t\n",
      "Train Epoch: 5 [6336/6592 (96%)] Loss: 1.266302, Acc: 0.466067 (Cliente 1)\t\t\t\t\n",
      "Train Epoch: 6 [6336/6592 (96%)] Loss: 1.204481, Acc: 0.473011 (Cliente 1)\t\t\t\t\n",
      "Train Epoch: 7 [6336/6592 (96%)] Loss: 1.114739, Acc: 0.494792 (Cliente 1)\t\t\t\t\n",
      "Train Epoch: 8 [6336/6592 (96%)] Loss: 1.134415, Acc: 0.518624 (Cliente 1)\t\t\t\t\n",
      "Training 10 epoch(s) w/ 103 mini-batches each61, Acc: 0.525253 (Cliente 1)\t\t\t\t\n",
      "\n",
      "Train Epoch: 0 [6336/6592 (96%)] Loss: 1.053009, Acc: 0.500000 (Cliente 1)\t\t\t\t\n",
      "Train Epoch: 1 [6336/6592 (96%)] Loss: 1.197228, Acc: 0.518150 (Cliente 1)\t\t\t\t\n",
      "Train Epoch: 2 [6336/6592 (96%)] Loss: 1.167765, Acc: 0.535669 (Cliente 1)\t\t\t\t\n",
      "Train Epoch: 3 [6336/6592 (96%)] Loss: 1.039128, Acc: 0.554451 (Cliente 1)\t\t\t\t\n",
      "Train Epoch: 4 [6336/6592 (96%)] Loss: 1.141483, Acc: 0.564552 (Cliente 1)\t\t\t\t\n",
      "Train Epoch: 5 [6336/6592 (96%)] Loss: 0.953193, Acc: 0.563763 (Cliente 1)\t\t\t\t\n",
      "Train Epoch: 6 [6336/6592 (96%)] Loss: 0.943563, Acc: 0.572917 (Cliente 1)\t\t\t\t\n",
      "Train Epoch: 7 [6336/6592 (96%)] Loss: 0.998474, Acc: 0.595644 (Cliente 1)\t\t\t\t\n",
      "Train Epoch: 8 [6336/6592 (96%)] Loss: 1.143978, Acc: 0.583965 (Cliente 1)\t\t\t\t\n",
      "Training 10 epoch(s) w/ 103 mini-batches each64, Acc: 0.589646 (Cliente 1)\t\t\t\t\n",
      "\n",
      "Train Epoch: 0 [6336/6592 (96%)] Loss: 1.034833, Acc: 0.573390 (Cliente 1)\t\t\t\t\n",
      "Train Epoch: 1 [6336/6592 (96%)] Loss: 1.043743, Acc: 0.600537 (Cliente 1)\t\t\t\t\n",
      "Train Epoch: 2 [6336/6592 (96%)] Loss: 1.135357, Acc: 0.602273 (Cliente 1)\t\t\t\t\n",
      "Train Epoch: 3 [6336/6592 (96%)] Loss: 0.856544, Acc: 0.612058 (Cliente 1)\t\t\t\t\n",
      "Train Epoch: 4 [6336/6592 (96%)] Loss: 1.204992, Acc: 0.613952 (Cliente 1)\t\t\t\t\n",
      "Train Epoch: 5 [6336/6592 (96%)] Loss: 1.205114, Acc: 0.622317 (Cliente 1)\t\t\t\t\n",
      "Train Epoch: 6 [6336/6592 (96%)] Loss: 1.050713, Acc: 0.617898 (Cliente 1)\t\t\t\t\n",
      "Train Epoch: 7 [6336/6592 (96%)] Loss: 0.943570, Acc: 0.628472 (Cliente 1)\t\t\t\t\n",
      "Train Epoch: 8 [6336/6592 (96%)] Loss: 1.158995, Acc: 0.629419 (Cliente 1)\t\t\t\t\n",
      "Training 10 epoch(s) w/ 103 mini-batches each64, Acc: 0.635101 (Cliente 1)\t\t\t\t\n",
      "\n",
      "Train Epoch: 0 [6336/6592 (96%)] Loss: 0.952973, Acc: 0.622948 (Cliente 1)\t\t\t\t\n",
      "Train Epoch: 1 [6336/6592 (96%)] Loss: 0.914400, Acc: 0.640941 (Cliente 1)\t\t\t\t\n",
      "Train Epoch: 2 [6336/6592 (96%)] Loss: 1.017678, Acc: 0.658144 (Cliente 1)\t\t\t\t\n",
      "Train Epoch: 3 [6336/6592 (96%)] Loss: 0.972783, Acc: 0.650095 (Cliente 1)\t\t\t\t\n",
      "Train Epoch: 4 [6336/6592 (96%)] Loss: 0.834844, Acc: 0.650568 (Cliente 1)\t\t\t\t\n",
      "Train Epoch: 5 [6336/6592 (96%)] Loss: 1.012610, Acc: 0.663352 (Cliente 1)\t\t\t\t\n",
      "Train Epoch: 6 [6336/6592 (96%)] Loss: 0.867197, Acc: 0.658302 (Cliente 1)\t\t\t\t\n",
      "Train Epoch: 7 [6336/6592 (96%)] Loss: 0.812877, Acc: 0.662247 (Cliente 1)\t\t\t\t\n",
      "Train Epoch: 8 [6336/6592 (96%)] Loss: 0.762437, Acc: 0.660038 (Cliente 1)\t\t\t\t\n",
      "Training 10 epoch(s) w/ 103 mini-batches each00, Acc: 0.666982 (Cliente 1)\t\t\t\t\n",
      "\n",
      "Train Epoch: 0 [6336/6592 (96%)] Loss: 0.871596, Acc: 0.658302 (Cliente 1)\t\t\t\t\n",
      "Train Epoch: 1 [6336/6592 (96%)] Loss: 0.791335, Acc: 0.668718 (Cliente 1)\t\t\t\t\n",
      "Train Epoch: 2 [6336/6592 (96%)] Loss: 0.809733, Acc: 0.672033 (Cliente 1)\t\t\t\t\n",
      "Train Epoch: 3 [6336/6592 (96%)] Loss: 0.927375, Acc: 0.680713 (Cliente 1)\t\t\t\t\n",
      "Train Epoch: 4 [6336/6592 (96%)] Loss: 1.090083, Acc: 0.675189 (Cliente 1)\t\t\t\t\n",
      "Train Epoch: 5 [6336/6592 (96%)] Loss: 0.691268, Acc: 0.670455 (Cliente 1)\t\t\t\t\n",
      "Train Epoch: 6 [6336/6592 (96%)] Loss: 0.877417, Acc: 0.673295 (Cliente 1)\t\t\t\t\n",
      "Train Epoch: 7 [6336/6592 (96%)] Loss: 0.740111, Acc: 0.686711 (Cliente 1)\t\t\t\t\n",
      "Train Epoch: 8 [6336/6592 (96%)] Loss: 0.795301, Acc: 0.679293 (Cliente 1)\t\t\t\t\n",
      "Training 10 epoch(s) w/ 103 mini-batches each37, Acc: 0.691761 (Cliente 1)\t\t\t\t\n",
      "\n",
      "Train Epoch: 0 [6336/6592 (96%)] Loss: 1.107488, Acc: 0.686711 (Cliente 1)\t\t\t\t\n",
      "Train Epoch: 1 [6336/6592 (96%)] Loss: 0.873975, Acc: 0.689867 (Cliente 1)\t\t\t\t\n",
      "Train Epoch: 2 [6336/6592 (96%)] Loss: 0.978926, Acc: 0.684975 (Cliente 1)\t\t\t\t\n",
      "Train Epoch: 3 [6336/6592 (96%)] Loss: 1.142059, Acc: 0.691446 (Cliente 1)\t\t\t\t\n",
      "Train Epoch: 4 [6336/6592 (96%)] Loss: 0.685067, Acc: 0.695707 (Cliente 1)\t\t\t\t\n",
      "Train Epoch: 5 [6336/6592 (96%)] Loss: 0.889108, Acc: 0.691761 (Cliente 1)\t\t\t\t\n",
      "Train Epoch: 6 [6336/6592 (96%)] Loss: 0.747825, Acc: 0.693182 (Cliente 1)\t\t\t\t\n",
      "Train Epoch: 7 [6336/6592 (96%)] Loss: 0.750386, Acc: 0.696654 (Cliente 1)\t\t\t\t\n",
      "Train Epoch: 8 [6336/6592 (96%)] Loss: 0.804206, Acc: 0.702336 (Cliente 1)\t\t\t\t\n",
      "Training 10 epoch(s) w/ 103 mini-batches each76, Acc: 0.703441 (Cliente 1)\t\t\t\t\n",
      "\n",
      "Train Epoch: 0 [6336/6592 (96%)] Loss: 0.812071, Acc: 0.689867 (Cliente 1)\t\t\t\t\n",
      "Train Epoch: 1 [6336/6592 (96%)] Loss: 0.705629, Acc: 0.698548 (Cliente 1)\t\t\t\t\n",
      "Train Epoch: 2 [6336/6592 (96%)] Loss: 0.911911, Acc: 0.692077 (Cliente 1)\t\t\t\t\n",
      "Train Epoch: 3 [6336/6592 (96%)] Loss: 0.876668, Acc: 0.711806 (Cliente 1)\t\t\t\t\n",
      "Train Epoch: 4 [6336/6592 (96%)] Loss: 0.758235, Acc: 0.705492 (Cliente 1)\t\t\t\t\n",
      "Train Epoch: 5 [6336/6592 (96%)] Loss: 0.761492, Acc: 0.713857 (Cliente 1)\t\t\t\t\n",
      "Train Epoch: 6 [6336/6592 (96%)] Loss: 0.636958, Acc: 0.701389 (Cliente 1)\t\t\t\t\n",
      "Train Epoch: 7 [6336/6592 (96%)] Loss: 0.712200, Acc: 0.706755 (Cliente 1)\t\t\t\t\n",
      "Train Epoch: 8 [6336/6592 (96%)] Loss: 0.778001, Acc: 0.698706 (Cliente 1)\t\t\t\t\n",
      "Training 10 epoch(s) w/ 103 mini-batches each28, Acc: 0.722538 (Cliente 1)\t\t\t\t\n",
      "\n",
      "Train Epoch: 0 [6336/6592 (96%)] Loss: 0.856852, Acc: 0.697443 (Cliente 1)\t\t\t\t\n",
      "Train Epoch: 1 [6336/6592 (96%)] Loss: 1.068972, Acc: 0.705966 (Cliente 1)\t\t\t\t\n",
      "Train Epoch: 2 [6336/6592 (96%)] Loss: 0.871100, Acc: 0.707544 (Cliente 1)\t\t\t\t\n",
      "Train Epoch: 3 [6336/6592 (96%)] Loss: 0.900262, Acc: 0.708965 (Cliente 1)\t\t\t\t\n",
      "Train Epoch: 4 [6336/6592 (96%)] Loss: 0.620277, Acc: 0.707544 (Cliente 1)\t\t\t\t\n",
      "Train Epoch: 5 [6336/6592 (96%)] Loss: 0.795702, Acc: 0.714804 (Cliente 1)\t\t\t\t\n",
      "Train Epoch: 6 [6336/6592 (96%)] Loss: 0.680937, Acc: 0.708176 (Cliente 1)\t\t\t\t\n",
      "Train Epoch: 7 [6336/6592 (96%)] Loss: 0.780280, Acc: 0.717487 (Cliente 1)\t\t\t\t\n",
      "Train Epoch: 8 [6336/6592 (96%)] Loss: 0.636400, Acc: 0.716856 (Cliente 1)\t\t\t\t\n",
      "Training 10 epoch(s) w/ 103 mini-batches each31, Acc: 0.714015 (Cliente 1)\t\t\t\t\n",
      "\n",
      "Train Epoch: 0 [6336/6592 (96%)] Loss: 1.086233, Acc: 0.700284 (Cliente 1)\t\t\t\t\n",
      "Train Epoch: 1 [6336/6592 (96%)] Loss: 0.661614, Acc: 0.715278 (Cliente 1)\t\t\t\t\n",
      "Train Epoch: 2 [6336/6592 (96%)] Loss: 0.868777, Acc: 0.722222 (Cliente 1)\t\t\t\t\n",
      "Train Epoch: 3 [6336/6592 (96%)] Loss: 0.856996, Acc: 0.715436 (Cliente 1)\t\t\t\t\n",
      "Train Epoch: 4 [6336/6592 (96%)] Loss: 0.589861, Acc: 0.722380 (Cliente 1)\t\t\t\t\n",
      "Train Epoch: 5 [6336/6592 (96%)] Loss: 0.654601, Acc: 0.716698 (Cliente 1)\t\t\t\t\n",
      "Train Epoch: 6 [6336/6592 (96%)] Loss: 0.731371, Acc: 0.718434 (Cliente 1)\t\t\t\t\n",
      "Train Epoch: 7 [6336/6592 (96%)] Loss: 0.555304, Acc: 0.721433 (Cliente 1)\t\t\t\t\n",
      "Train Epoch: 8 [6336/6592 (96%)] Loss: 0.460071, Acc: 0.732008 (Cliente 1)\t\t\t\t\n",
      "Training 10 epoch(s) w/ 103 mini-batches each62, Acc: 0.730271 (Cliente 1)\t\t\t\t\n",
      "\n",
      "Train Epoch: 0 [6336/6592 (96%)] Loss: 0.724822, Acc: 0.705335 (Cliente 1)\t\t\t\t\n",
      "Train Epoch: 1 [6336/6592 (96%)] Loss: 0.899710, Acc: 0.720328 (Cliente 1)\t\t\t\t\n",
      "Train Epoch: 2 [6336/6592 (96%)] Loss: 0.742958, Acc: 0.726641 (Cliente 1)\t\t\t\t\n",
      "Train Epoch: 3 [6336/6592 (96%)] Loss: 0.695866, Acc: 0.719539 (Cliente 1)\t\t\t\t\n",
      "Train Epoch: 4 [6336/6592 (96%)] Loss: 0.591204, Acc: 0.722222 (Cliente 1)\t\t\t\t\n",
      "Train Epoch: 5 [6336/6592 (96%)] Loss: 0.688561, Acc: 0.722064 (Cliente 1)\t\t\t\t\n",
      "Train Epoch: 6 [6336/6592 (96%)] Loss: 0.710155, Acc: 0.722064 (Cliente 1)\t\t\t\t\n",
      "Train Epoch: 7 [6336/6592 (96%)] Loss: 0.627770, Acc: 0.728378 (Cliente 1)\t\t\t\t\n",
      "Train Epoch: 8 [6336/6592 (96%)] Loss: 0.865639, Acc: 0.724747 (Cliente 1)\t\t\t\t\n",
      "Train Epoch: 9 [6336/6592 (96%)] Loss: 0.785122, Acc: 0.726168 (Cliente 1)\t\t\t\t\r"
     ]
    },
    {
     "name": "stderr",
     "output_type": "stream",
     "text": [
      "DEBUG flower 2021-08-19 22:46:22,217 | connection.py:68 | Insecure gRPC channel closed\n",
      "INFO flower 2021-08-19 22:46:22,218 | app.py:72 | Disconnect and shut down\n"
     ]
    },
    {
     "name": "stdout",
     "output_type": "stream",
     "text": [
      "Client 1 - Evaluate on 6540 samples: Average loss: 0.0074, Accuracy: 84.79%\n",
      "\n"
     ]
    }
   ],
   "source": [
    "client_address = \"[::]:8081\"\n",
    "fl.client.start_client(client_address, client)"
   ]
  }
 ],
 "metadata": {
  "colab": {
   "collapsed_sections": [],
   "name": "2-HAR-client_1.ipynb",
   "provenance": []
  },
  "kernelspec": {
   "display_name": "Python 3",
   "language": "python",
   "name": "python3"
  },
  "language_info": {
   "codemirror_mode": {
    "name": "ipython",
    "version": 3
   },
   "file_extension": ".py",
   "mimetype": "text/x-python",
   "name": "python",
   "nbconvert_exporter": "python",
   "pygments_lexer": "ipython3",
   "version": "3.9.5"
  }
 },
 "nbformat": 4,
 "nbformat_minor": 1
}
